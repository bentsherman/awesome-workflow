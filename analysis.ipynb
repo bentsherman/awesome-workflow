{
 "cells": [
  {
   "cell_type": "markdown",
   "metadata": {},
   "source": [
    "# Analysis of Workflow Systems"
   ]
  },
  {
   "cell_type": "code",
   "execution_count": null,
   "metadata": {},
   "outputs": [],
   "source": [
    "import matplotlib.pyplot as plt\n",
    "import pandas as pd\n",
    "import seaborn as sns"
   ]
  },
  {
   "cell_type": "markdown",
   "metadata": {},
   "source": [
    "### Load Data"
   ]
  },
  {
   "cell_type": "code",
   "execution_count": null,
   "metadata": {},
   "outputs": [],
   "source": [
    "df = pd.read_csv('workflow-systems.csv')"
   ]
  },
  {
   "cell_type": "code",
   "execution_count": null,
   "metadata": {},
   "outputs": [],
   "source": [
    "df.domain = df.domain.fillna('Uncategorized')"
   ]
  },
  {
   "cell_type": "markdown",
   "metadata": {},
   "source": [
    "### Breakdown by Domain"
   ]
  },
  {
   "cell_type": "code",
   "execution_count": null,
   "metadata": {},
   "outputs": [],
   "source": [
    "# compute counts\n",
    "counts = {}\n",
    "for key in df.domain:\n",
    "    if key == 'Uncategorized':\n",
    "        continue\n",
    "    if key not in counts:\n",
    "        counts[key] = 0\n",
    "    counts[key] += 1\n",
    "\n",
    "counts = dict(sorted(counts.items(), key=lambda item: item[1]))\n",
    "labels = ['%s (%d)' % (k, v) for k, v in counts.items()]\n",
    "\n",
    "# plot pie chart\n",
    "_ = plt.pie(counts.values(), labels=labels)"
   ]
  },
  {
   "cell_type": "markdown",
   "metadata": {},
   "source": [
    "### GitHub Stars by Domain"
   ]
  },
  {
   "cell_type": "markdown",
   "metadata": {},
   "source": [
    "Note that [GitHub stars might be fake](https://dagster.io/blog/fake-stars), and different domains have different levels of participation on GitHub. The \"best\" workflow system is the one that best meets your specific requirements."
   ]
  },
  {
   "cell_type": "code",
   "execution_count": null,
   "metadata": {},
   "outputs": [],
   "source": [
    "# select axes\n",
    "xaxis = 'name'\n",
    "yaxis = 'github_stars'\n",
    "row   = 'domain'\n",
    "\n",
    "# filter and sort data\n",
    "data = df.copy()\n",
    "data = data[~data[yaxis].isna()]\n",
    "data.sort_values(by=yaxis, inplace=True, kind='mergesort')\n",
    "\n",
    "# plot bar plots\n",
    "g = sns.FacetGrid(\n",
    "    data,\n",
    "    row=row,\n",
    "    sharex=False,\n",
    "    sharey=False,\n",
    "    height=6.0,\n",
    "    aspect=1.5\n",
    ")\n",
    "g = g.map(\n",
    "    plt.barh,\n",
    "    xaxis,\n",
    "    yaxis,\n",
    "    data=data\n",
    ")"
   ]
  }
 ],
 "metadata": {
  "kernelspec": {
   "display_name": "awesome-workflow",
   "language": "python",
   "name": "python3"
  },
  "language_info": {
   "codemirror_mode": {
    "name": "ipython",
    "version": 3
   },
   "file_extension": ".py",
   "mimetype": "text/x-python",
   "name": "python",
   "nbconvert_exporter": "python",
   "pygments_lexer": "ipython3",
   "version": "3.10.13"
  }
 },
 "nbformat": 4,
 "nbformat_minor": 2
}
